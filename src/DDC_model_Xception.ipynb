{
 "cells": [
  {
   "cell_type": "code",
   "execution_count": 23,
   "metadata": {},
   "outputs": [],
   "source": [
    "import keras\n",
    "from keras.layers import Dense, Conv2D, BatchNormalization, Activation\n",
    "from keras.layers import AveragePooling2D, Input, Flatten, Dropout\n",
    "from keras.applications.xception import Xception\n",
    "from keras.optimizers import Adam\n",
    "from keras.callbacks import ModelCheckpoint, LearningRateScheduler\n",
    "from keras.callbacks import ReduceLROnPlateau, EarlyStopping\n",
    "\n",
    "from keras.preprocessing.image import ImageDataGenerator\n",
    "from keras.regularizers import l2\n",
    "from keras import backend as K\n",
    "from keras.models import Model\n",
    "\n",
    "from sklearn.preprocessing import LabelEncoder\n",
    "from sklearn.model_selection import train_test_split\n",
    "from keras.utils import np_utils\n",
    "import sklearn.metrics as metrics\n",
    "\n",
    "import numpy as np\n",
    "import pandas as pd\n",
    "\n",
    "import pickle\n",
    "import sys, gc, os\n",
    "import glob\n",
    "\n",
    "import matplotlib.pyplot as plt\n",
    "import seaborn as sns\n"
   ]
  },
  {
   "cell_type": "code",
   "execution_count": 24,
   "metadata": {},
   "outputs": [],
   "source": [
    "d=128"
   ]
  },
  {
   "cell_type": "code",
   "execution_count": 3,
   "metadata": {},
   "outputs": [],
   "source": [
    "# https://keras.io/examples/cifar10_resnet/\n",
    "def lr_schedule(epoch):\n",
    "    \"\"\"Learning Rate Schedule\n",
    "\n",
    "    Learning rate is scheduled to be reduced after 80, 120, 160, 180 epochs.\n",
    "    Called automatically every epoch as part of callbacks during training.\n",
    "\n",
    "    # Arguments\n",
    "        epoch (int): The number of epochs\n",
    "\n",
    "    # Returns\n",
    "        lr (float32): learning rate\n",
    "    \"\"\"\n",
    "    lr = 1e-3\n",
    "    if epoch > 180:\n",
    "        lr *= 0.5e-3\n",
    "    elif epoch > 160:\n",
    "        lr *= 1e-3\n",
    "    elif epoch > 120:\n",
    "        lr *= 1e-2\n",
    "    elif epoch > 80:\n",
    "        lr *= 1e-1\n",
    "    print('Learning rate: ', lr)\n",
    "    return lr\n"
   ]
  },
  {
   "cell_type": "code",
   "execution_count": 4,
   "metadata": {},
   "outputs": [
    {
     "name": "stdout",
     "output_type": "stream",
     "text": [
      "../data/train_Xception_1.npz\n",
      "fakes 2919\n",
      "reals 2880\n",
      "labels 2 2\n",
      "train= 5799\n",
      "labels 5799\n"
     ]
    }
   ],
   "source": [
    "le = LabelEncoder()\n",
    "\n",
    "train = np.empty(shape=(0,d,d,3), dtype=np.int8)\n",
    "labels = np.empty(shape=(0,2), dtype=np.float)\n",
    "\n",
    "for f in glob.glob(\"../data/train_Xception_*\"):\n",
    "    print(f)\n",
    "    train_loader = np.load(f)\n",
    "    fakes = train_loader['fakes']\n",
    "    train = np.append(train,fakes,axis=0)\n",
    "    print('fakes',len(fakes))\n",
    "    reals = train_loader['reals']\n",
    "    train = np.append(train,reals,axis=0)\n",
    "    print('reals',len(reals))\n",
    "    l = np.append(np.full(len(fakes),'FAKE'),np.full(len(reals),'REAL'))\n",
    "    l = le.fit_transform(l)\n",
    "    l = np_utils.to_categorical(l, 2)\n",
    "    print('labels',labels.ndim,l.ndim)\n",
    "    labels = np.append(labels,l,axis=0)\n",
    "    \n",
    "print('train=',len(train))\n",
    "print('labels',len(labels))"
   ]
  },
  {
   "cell_type": "code",
   "execution_count": 5,
   "metadata": {},
   "outputs": [
    {
     "name": "stdout",
     "output_type": "stream",
     "text": [
      "(128, 128, 3)\n"
     ]
    }
   ],
   "source": [
    "# Input image dimensions.\n",
    "input_shape = train[1].shape\n",
    "print(input_shape)\n",
    "num_classes=2\n",
    "# Training parameters\n",
    "batch_size = 32  # orig paper trained all networks with batch_size=128\n",
    "epochs = 200\n",
    "\n"
   ]
  },
  {
   "cell_type": "code",
   "execution_count": 28,
   "metadata": {},
   "outputs": [],
   "source": [
    "def Xception1():\n",
    "    image_input = Input(shape=(d,d,3))\n",
    "    \n",
    "    cnn = Xception(include_top=False, weights='imagenet', input_tensor=None, input_shape=input_shape, pooling='avg')(image_input)\n",
    "\n",
    "    d1 = Dense(512)(cnn)\n",
    "    d1 = Dropout(0.5)(d1)\n",
    "  \n",
    "    output = Dense(2, activation='softmax')(d1)\n",
    "    \n",
    "    model = Model(inputs=image_input, outputs=output)\n",
    "\n",
    "    return model"
   ]
  },
  {
   "cell_type": "code",
   "execution_count": 29,
   "metadata": {
    "scrolled": true
   },
   "outputs": [
    {
     "name": "stdout",
     "output_type": "stream",
     "text": [
      "_________________________________________________________________\n",
      "Layer (type)                 Output Shape              Param #   \n",
      "=================================================================\n",
      "input_21 (InputLayer)        (None, 128, 128, 3)       0         \n",
      "_________________________________________________________________\n",
      "xception (Model)             (None, 2048)              20861480  \n",
      "_________________________________________________________________\n",
      "dense_11 (Dense)             (None, 512)               1049088   \n",
      "_________________________________________________________________\n",
      "dropout_3 (Dropout)          (None, 512)               0         \n",
      "_________________________________________________________________\n",
      "dense_12 (Dense)             (None, 2)                 1026      \n",
      "=================================================================\n",
      "Total params: 21,911,594\n",
      "Trainable params: 21,857,066\n",
      "Non-trainable params: 54,528\n",
      "_________________________________________________________________\n"
     ]
    }
   ],
   "source": [
    "model = Xception1()\n",
    "\n",
    "\n",
    "model.compile(loss='categorical_crossentropy',\n",
    "              optimizer=Adam(),\n",
    "              metrics=['accuracy'])\n",
    "model.summary()\n",
    "\n",
    "# Prepare model model saving directory.\n",
    "save_dir = '../models'\n",
    "model_name = 'DDC_Xception_model.{epoch:03d}.h5' \n",
    "if not os.path.isdir(save_dir):\n",
    "    os.makedirs(save_dir)\n",
    "filepath = os.path.join(save_dir, model_name)\n",
    "\n",
    "# Prepare callbacks for model saving and for learning rate adjustment.\n",
    "checkpoint = ModelCheckpoint(filepath=filepath,\n",
    "                             monitor='val_loss',\n",
    "                             verbose=1,\n",
    "                             save_best_only=True)\n",
    "\n",
    "lr_scheduler = LearningRateScheduler(lr_schedule)\n",
    "\n",
    "lr_reducer = ReduceLROnPlateau(factor=0.2,\n",
    "                               cooldown=0,\n",
    "                               patience=2,\n",
    "                               min_lr=0.5e-6)\n",
    "\n",
    "earlystop = EarlyStopping(monitor='val_loss',\n",
    "                          patience=6)\n",
    "\n",
    "callbacks = [checkpoint, lr_reducer, lr_scheduler, earlystop]\n"
   ]
  },
  {
   "cell_type": "code",
   "execution_count": 30,
   "metadata": {},
   "outputs": [],
   "source": [
    "(trainX, testX, trainY, testY) = train_test_split(train, labels, test_size=0.25, random_state=42)"
   ]
  },
  {
   "cell_type": "code",
   "execution_count": null,
   "metadata": {},
   "outputs": [],
   "source": [
    "del train, labels"
   ]
  },
  {
   "cell_type": "code",
   "execution_count": 31,
   "metadata": {
    "scrolled": false
   },
   "outputs": [
    {
     "name": "stdout",
     "output_type": "stream",
     "text": [
      "Train on 4349 samples, validate on 1450 samples\n",
      "Epoch 1/200\n",
      "Learning rate:  0.001\n",
      "4349/4349 [==============================] - 924s 212ms/step - loss: 0.7006 - acc: 0.4934 - val_loss: 0.6927 - val_acc: 0.5255\n",
      "\n",
      "Epoch 00001: val_loss improved from inf to 0.69267, saving model to ../models/DDC_Xception_model.001.h5\n",
      "Epoch 2/200\n",
      "Learning rate:  0.001\n",
      "4349/4349 [==============================] - 900s 207ms/step - loss: 0.6939 - acc: 0.4875 - val_loss: 0.6932 - val_acc: 0.4745\n",
      "\n",
      "Epoch 00002: val_loss did not improve from 0.69267\n",
      "Epoch 3/200\n",
      "Learning rate:  0.001\n",
      "4349/4349 [==============================] - 897s 206ms/step - loss: 0.6940 - acc: 0.5093 - val_loss: 0.7803 - val_acc: 0.5359\n",
      "\n",
      "Epoch 00003: val_loss did not improve from 0.69267\n",
      "Epoch 4/200\n",
      "Learning rate:  0.001\n",
      "4349/4349 [==============================] - 901s 207ms/step - loss: 0.6961 - acc: 0.5024 - val_loss: 0.6921 - val_acc: 0.4745\n",
      "\n",
      "Epoch 00004: val_loss improved from 0.69267 to 0.69213, saving model to ../models/DDC_Xception_model.004.h5\n",
      "Epoch 5/200\n",
      "Learning rate:  0.001\n",
      "4349/4349 [==============================] - 896s 206ms/step - loss: 0.6923 - acc: 0.5203 - val_loss: 0.6920 - val_acc: 0.4745\n",
      "\n",
      "Epoch 00005: val_loss improved from 0.69213 to 0.69204, saving model to ../models/DDC_Xception_model.005.h5\n",
      "Epoch 6/200\n",
      "Learning rate:  0.001\n",
      "4349/4349 [==============================] - 911s 209ms/step - loss: 0.6846 - acc: 0.5270 - val_loss: 0.7618 - val_acc: 0.5628\n",
      "\n",
      "Epoch 00006: val_loss did not improve from 0.69204\n",
      "Epoch 7/200\n",
      "Learning rate:  0.001\n",
      "4349/4349 [==============================] - 932s 214ms/step - loss: 0.6719 - acc: 0.5716 - val_loss: 0.7275 - val_acc: 0.5662\n",
      "\n",
      "Epoch 00007: val_loss did not improve from 0.69204\n",
      "Epoch 8/200\n",
      "Learning rate:  0.001\n",
      "4349/4349 [==============================] - 908s 209ms/step - loss: 0.6743 - acc: 0.5567 - val_loss: 0.6879 - val_acc: 0.5848\n",
      "\n",
      "Epoch 00008: val_loss improved from 0.69204 to 0.68795, saving model to ../models/DDC_Xception_model.008.h5\n",
      "Epoch 9/200\n",
      "Learning rate:  0.001\n",
      "4349/4349 [==============================] - 953s 219ms/step - loss: 0.6695 - acc: 0.5792 - val_loss: 0.8828 - val_acc: 0.5676\n",
      "\n",
      "Epoch 00009: val_loss did not improve from 0.68795\n",
      "Epoch 10/200\n",
      "Learning rate:  0.001\n",
      "4349/4349 [==============================] - 951s 219ms/step - loss: 0.6246 - acc: 0.6369 - val_loss: 0.8234 - val_acc: 0.4717\n",
      "\n",
      "Epoch 00010: val_loss did not improve from 0.68795\n",
      "Epoch 11/200\n",
      "Learning rate:  0.001\n",
      "4349/4349 [==============================] - 946s 218ms/step - loss: 0.5891 - acc: 0.6831 - val_loss: 5.4675 - val_acc: 0.5297\n",
      "\n",
      "Epoch 00011: val_loss did not improve from 0.68795\n",
      "Epoch 12/200\n",
      "Learning rate:  0.001\n",
      "4349/4349 [==============================] - 949s 218ms/step - loss: 0.5701 - acc: 0.6841 - val_loss: 1.5602 - val_acc: 0.6469\n",
      "\n",
      "Epoch 00012: val_loss did not improve from 0.68795\n",
      "Epoch 13/200\n",
      "Learning rate:  0.001\n",
      "4349/4349 [==============================] - 960s 221ms/step - loss: 0.4108 - acc: 0.7866 - val_loss: 1.1122 - val_acc: 0.7200\n",
      "\n",
      "Epoch 00013: val_loss did not improve from 0.68795\n",
      "Epoch 14/200\n",
      "Learning rate:  0.001\n",
      "4349/4349 [==============================] - 930s 214ms/step - loss: 0.3204 - acc: 0.8427 - val_loss: 0.8507 - val_acc: 0.7366\n",
      "\n",
      "Epoch 00014: val_loss did not improve from 0.68795\n"
     ]
    }
   ],
   "source": [
    "history = model.fit(trainX,\n",
    "              trainY,\n",
    "              batch_size=batch_size,\n",
    "              epochs=epochs,\n",
    "              validation_data=(testX, testY),\n",
    "              shuffle=True,\n",
    "              callbacks=callbacks)"
   ]
  },
  {
   "cell_type": "code",
   "execution_count": 33,
   "metadata": {},
   "outputs": [
    {
     "data": {
      "image/png": "[encoded data removed]",
      "text/plain": [
       "<Figure size 1080x576 with 2 Axes>"
      ]
     },
     "metadata": {
      "needs_background": "light"
     },
     "output_type": "display_data"
    }
   ],
   "source": [
    "f, (ax1, ax2) = plt.subplots(nrows = 1, ncols = 2, figsize=(15, 8))\n",
    "\n",
    "# Plot training & validation accuracy values\n",
    "ax1.plot(history.history['acc'])\n",
    "ax1.plot(history.history['val_acc'])\n",
    "ax1.set_title('Model accuracy')\n",
    "ax1.set(xlabel=\"Epoch\", ylabel=\"Accuracy\")\n",
    "ax1.legend(['Train', 'Test'], loc='lower right')\n",
    "\n",
    "# Plot training & validation loss values\n",
    "ax2.plot(history.history['loss'])\n",
    "ax2.plot(history.history['val_loss'])\n",
    "ax2.set_title('Model loss')\n",
    "ax2.set(xlabel=\"Epoch\", ylabel=\"Loss\")\n",
    "ax2.legend(['Train', 'Test'], loc='upper right')\n",
    "\n",
    "plt.show()"
   ]
  },
  {
   "cell_type": "code",
   "execution_count": 35,
   "metadata": {},
   "outputs": [],
   "source": [
    "predictions = model.predict(testX)"
   ]
  },
  {
   "cell_type": "code",
   "execution_count": 38,
   "metadata": {},
   "outputs": [
    {
     "data": {
      "text/plain": [
       "0.8820946913429394"
      ]
     },
     "execution_count": 38,
     "metadata": {},
     "output_type": "execute_result"
    }
   ],
   "source": [
    "metrics.log_loss(testY[:,0],predictions[:,0])"
   ]
  },
  {
   "cell_type": "code",
   "execution_count": null,
   "metadata": {},
   "outputs": [],
   "source": []
  }
 ],
 "metadata": {
  "kernelspec": {
   "display_name": "Python 3",
   "language": "python",
   "name": "python3"
  },
  "language_info": {
   "codemirror_mode": {
    "name": "ipython",
    "version": 3
   },
   "file_extension": ".py",
   "mimetype": "text/x-python",
   "name": "python",
   "nbconvert_exporter": "python",
   "pygments_lexer": "ipython3",
   "version": "3.6.6"
  }
 },
 "nbformat": 4,
 "nbformat_minor": 2
}
