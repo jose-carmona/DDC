{
 "cells": [
  {
   "cell_type": "code",
   "execution_count": 1,
   "metadata": {},
   "outputs": [
    {
     "name": "stderr",
     "output_type": "stream",
     "text": [
      "Using TensorFlow backend.\n"
     ]
    }
   ],
   "source": [
    "import numpy as np\n",
    "import pandas as pd\n",
    "import os\n",
    "\n",
    "from tqdm import tqdm\n",
    "\n",
    "from utils.ffmpeg_processor import ffmpegProcessor\n",
    "from utils.audio import melspectrogram, show_melspectrogram, save_melspectrograms\n",
    "from utils.encoder import FakeRealEncoder"
   ]
  },
  {
   "cell_type": "code",
   "execution_count": 2,
   "metadata": {},
   "outputs": [],
   "source": [
    "fase = 'GEN'"
   ]
  },
  {
   "cell_type": "code",
   "execution_count": 3,
   "metadata": {},
   "outputs": [
    {
     "name": "stdout",
     "output_type": "stream",
     "text": [
      "dfdc_train_part_21\n",
      "dfdc_train_part_20\n",
      "dfdc_train_part_14\n",
      "dfdc_train_part_48\n",
      "dfdc_train_part_3\n",
      "dfdc_train_part_2\n"
     ]
    }
   ],
   "source": [
    "if fase == 'GEN':\n",
    "    df = pd.DataFrame()\n",
    "    for root, dirs, files in os.walk('../videos', topdown=False):\n",
    "        for name in dirs:\n",
    "            print(name)\n",
    "            dfdir = pd.read_json('../videos/' + name + '/metadata.json')\n",
    "            dfdir = dfdir.T\n",
    "            dfdir['dir'] = name\n",
    "            df = df.append(dfdir)\n",
    "\n",
    "    df[\"processed\"] = 'False'\n",
    "    df.to_csv('../data/audio.csv',index_label='video')"
   ]
  },
  {
   "cell_type": "code",
   "execution_count": 4,
   "metadata": {},
   "outputs": [],
   "source": [
    "df = pd.read_csv('../data/audio.csv')"
   ]
  },
  {
   "cell_type": "code",
   "execution_count": 5,
   "metadata": {},
   "outputs": [],
   "source": [
    "threshold = 0.08\n",
    "n_chunks = 10\n",
    "len_chunks = 44100 * 2 \n",
    "inc_chunk = (441236 - len_chunks) // (n_chunks - 1)"
   ]
  },
  {
   "cell_type": "code",
   "execution_count": 6,
   "metadata": {},
   "outputs": [
    {
     "name": "stderr",
     "output_type": "stream",
     "text": [
      "100%|██████████| 10582/10582 [1:08:51<00:00,  2.98it/s]\n"
     ]
    }
   ],
   "source": [
    "ap = ffmpegProcessor()\n",
    "le = FakeRealEncoder()\n",
    "\n",
    "real_videos_processed = []\n",
    "\n",
    "df = df.query('label == \"FAKE\"')\n",
    "for index, row in tqdm(df.iterrows(), total=len(df)):\n",
    "    af = ap.extract_audio(f\"../videos/{row.dir}/{row.video}\")\n",
    "    ar = ap.extract_audio(f\"../videos/{row.dir}/{row.original}\")\n",
    "    l = min(len(ar),len(af))\n",
    "    \n",
    "    if np.max(af[:l]-ar[:l]) > threshold:\n",
    "        af = np.resize(af, (n_chunks,len_chunks))\n",
    "        save_melspectrograms(af, n_chunks, f'fake_{row.video}', le.to_categorical(['FAKE']))\n",
    "        # add real video if not processed\n",
    "        if row.original not in real_videos_processed:\n",
    "            ar = np.resize(ar, (n_chunks,len_chunks))\n",
    "            save_melspectrograms(ar, n_chunks, f'real_{row.original}', le.to_categorical(['REAL']))\n",
    "            real_videos_processed.append(row.original)\n"
   ]
  },
  {
   "cell_type": "markdown",
   "metadata": {},
   "source": [
    "## Test"
   ]
  },
  {
   "cell_type": "code",
   "execution_count": null,
   "metadata": {},
   "outputs": [],
   "source": [
    "from utils.utils import npz_in_folder\n",
    "files = npz_in_folder('../data/audio')"
   ]
  },
  {
   "cell_type": "code",
   "execution_count": null,
   "metadata": {},
   "outputs": [],
   "source": [
    "data = np.load(files[42])\n",
    "log_S=data['data']\n",
    "label=data['label']\n",
    "data.close()"
   ]
  },
  {
   "cell_type": "code",
   "execution_count": null,
   "metadata": {},
   "outputs": [],
   "source": [
    "log_S.shape, label.shape"
   ]
  },
  {
   "cell_type": "code",
   "execution_count": null,
   "metadata": {},
   "outputs": [],
   "source": [
    "show_melspectrogram(log_S)"
   ]
  }
 ],
 "metadata": {
  "kernelspec": {
   "display_name": "Python 3",
   "language": "python",
   "name": "python3"
  },
  "language_info": {
   "codemirror_mode": {
    "name": "ipython",
    "version": 3
   },
   "file_extension": ".py",
   "mimetype": "text/x-python",
   "name": "python",
   "nbconvert_exporter": "python",
   "pygments_lexer": "ipython3",
   "version": "3.6.6"
  }
 },
 "nbformat": 4,
 "nbformat_minor": 2
}
