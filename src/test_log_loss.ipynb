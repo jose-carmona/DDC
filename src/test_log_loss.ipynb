{
 "cells": [
  {
   "cell_type": "code",
   "execution_count": 61,
   "metadata": {},
   "outputs": [
    {
     "name": "stdout",
     "output_type": "stream",
     "text": [
      "LogLoss =  0.21487562597358362\n"
     ]
    }
   ],
   "source": [
    "import pandas as pd\n",
    "import numpy as np\n",
    "import sklearn.metrics as metrics\n",
    "\n",
    "p = 69\n",
    "\n",
    "dfR = pd.DataFrame(np.zeros(100-p), columns = {'correct_answer'})\n",
    "dfR['label'] = .5\n",
    "dfF = pd.DataFrame(np.ones(p), columns = {'correct_answer'})\n",
    "dfF['label'] = 1\n",
    "\n",
    "df = dfR.append(dfF)\n",
    "print('LogLoss = ',metrics.log_loss(df['correct_answer'],df['label']))"
   ]
  },
  {
   "cell_type": "code",
   "execution_count": null,
   "metadata": {},
   "outputs": [],
   "source": []
  }
 ],
 "metadata": {
  "kernelspec": {
   "display_name": "Python 3",
   "language": "python",
   "name": "python3"
  },
  "language_info": {
   "codemirror_mode": {
    "name": "ipython",
    "version": 3
   },
   "file_extension": ".py",
   "mimetype": "text/x-python",
   "name": "python",
   "nbconvert_exporter": "python",
   "pygments_lexer": "ipython3",
   "version": "3.6.6"
  }
 },
 "nbformat": 4,
 "nbformat_minor": 2
}
