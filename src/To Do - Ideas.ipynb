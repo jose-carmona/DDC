{
 "cells": [
  {
   "cell_type": "markdown",
   "metadata": {},
   "source": [
    "## To Do - Ideas\n",
    "\n",
    "Explore Spotify annoy \n",
    "* See https://github.com/spotify/annoy\n",
    "* Example https://www.kaggle.com/hmendonca/proper-clustering-with-facenet-embeddings-eda\n",
    "\n",
    "\n",
    "Compare with actual method ../models/res10_300x300_ssd_iter_140000.caffemodel\n",
    "* Keras VGGFace https://github.com/rcmalli/keras-vggface\n",
    "* VGGFace2 PyTorch https://github.com/cydonia999/VGGFace2-pytorch\n",
    "\n",
    "\n",
    "What about the sound?\n",
    "* The same method that faces?"
   ]
  },
  {
   "cell_type": "markdown",
   "metadata": {},
   "source": [
    "### Data\n",
    "\n",
    "Explore:\n",
    "* compare FAKE vs REAL\n",
    "  * The same frame?\n",
    "  * The same audio?\n",
    "  \n",
    "Method to extract faces:\n",
    "* Read audio and check (check audio is cheaper than check video?)\n",
    "  * check > threshold? --> FAKE\n",
    "* Read video all video\n",
    "  * extract all faces\n",
    "  * no faces? --> label = 0.5\n",
    "* check and extract features\n",
    "  * check > threshold? --> FAKE\n",
    "\n",
    "Work by batchs\n",
    "* Download batch\n",
    "* extract info\n",
    "* delete batch\n",
    "* iterate"
   ]
  },
  {
   "cell_type": "code",
   "execution_count": null,
   "metadata": {},
   "outputs": [],
   "source": []
  }
 ],
 "metadata": {
  "kernelspec": {
   "display_name": "Python 3",
   "language": "python",
   "name": "python3"
  },
  "language_info": {
   "codemirror_mode": {
    "name": "ipython",
    "version": 3
   },
   "file_extension": ".py",
   "mimetype": "text/x-python",
   "name": "python",
   "nbconvert_exporter": "python",
   "pygments_lexer": "ipython3",
   "version": "3.6.6"
  }
 },
 "nbformat": 4,
 "nbformat_minor": 2
}
