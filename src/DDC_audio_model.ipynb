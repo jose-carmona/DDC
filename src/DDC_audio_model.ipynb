{
 "cells": [
  {
   "cell_type": "code",
   "execution_count": 1,
   "metadata": {
    "scrolled": true
   },
   "outputs": [
    {
     "name": "stderr",
     "output_type": "stream",
     "text": [
      "Using TensorFlow backend.\n"
     ]
    }
   ],
   "source": [
    "import os\n",
    "import numpy as np\n",
    "\n",
    "import matplotlib.pyplot as plt\n",
    "\n",
    "from sklearn.model_selection import train_test_split\n",
    "\n",
    "from keras.optimizers import Adam\n",
    "from keras.callbacks import ModelCheckpoint, ReduceLROnPlateau, EarlyStopping\n",
    "\n",
    "from utils.utils import npz_in_folder\n",
    "from utils.generator import SimpleDataFromNpzGenerator\n",
    "from DDC_models.audio_models import audio_model"
   ]
  },
  {
   "cell_type": "markdown",
   "metadata": {},
   "source": [
    "### Parameters"
   ]
  },
  {
   "cell_type": "code",
   "execution_count": 2,
   "metadata": {},
   "outputs": [],
   "source": [
    "save_dir = '../models'\n",
    "name_prefix = 'DDC_audio_model'\n",
    "name_suffix = '{epoch:03d}.h5' \n",
    "model_name = 'panotti'\n",
    "\n",
    "num_classes = 2\n",
    "batch_size = 32\n",
    "epochs = 200\n",
    "dim = (128,173,1)"
   ]
  },
  {
   "cell_type": "markdown",
   "metadata": {},
   "source": [
    "### Data"
   ]
  },
  {
   "cell_type": "code",
   "execution_count": 3,
   "metadata": {},
   "outputs": [
    {
     "name": "stdout",
     "output_type": "stream",
     "text": [
      "(REAL,FALSE)= [5150 1500]\n"
     ]
    }
   ],
   "source": [
    "train = np.array(npz_in_folder('../data/audio'))\n",
    "np.random.shuffle(train)\n",
    "group = np.core.defchararray.rfind(train,'FAKE')==14\n",
    "print('(REAL,FALSE)=',np.bincount(group))"
   ]
  },
  {
   "cell_type": "markdown",
   "metadata": {},
   "source": [
    "### Model"
   ]
  },
  {
   "cell_type": "code",
   "execution_count": 4,
   "metadata": {},
   "outputs": [
    {
     "name": "stdout",
     "output_type": "stream",
     "text": [
      "_________________________________________________________________\n",
      "Layer (type)                 Output Shape              Param #   \n",
      "=================================================================\n",
      "Input (Conv2D)               (None, 128, 173, 32)      320       \n",
      "_________________________________________________________________\n",
      "max_pooling2d_1 (MaxPooling2 (None, 64, 86, 32)        0         \n",
      "_________________________________________________________________\n",
      "activation_1 (Activation)    (None, 64, 86, 32)        0         \n",
      "_________________________________________________________________\n",
      "batch_normalization_1 (Batch (None, 64, 86, 32)        128       \n",
      "_________________________________________________________________\n",
      "conv2d_1 (Conv2D)            (None, 64, 86, 32)        9248      \n",
      "_________________________________________________________________\n",
      "max_pooling2d_2 (MaxPooling2 (None, 32, 43, 32)        0         \n",
      "_________________________________________________________________\n",
      "activation_2 (Activation)    (None, 32, 43, 32)        0         \n",
      "_________________________________________________________________\n",
      "dropout_1 (Dropout)          (None, 32, 43, 32)        0         \n",
      "_________________________________________________________________\n",
      "conv2d_2 (Conv2D)            (None, 32, 43, 32)        9248      \n",
      "_________________________________________________________________\n",
      "max_pooling2d_3 (MaxPooling2 (None, 16, 21, 32)        0         \n",
      "_________________________________________________________________\n",
      "activation_3 (Activation)    (None, 16, 21, 32)        0         \n",
      "_________________________________________________________________\n",
      "dropout_2 (Dropout)          (None, 16, 21, 32)        0         \n",
      "_________________________________________________________________\n",
      "conv2d_3 (Conv2D)            (None, 16, 21, 32)        9248      \n",
      "_________________________________________________________________\n",
      "max_pooling2d_4 (MaxPooling2 (None, 8, 10, 32)         0         \n",
      "_________________________________________________________________\n",
      "activation_4 (Activation)    (None, 8, 10, 32)         0         \n",
      "_________________________________________________________________\n",
      "dropout_3 (Dropout)          (None, 8, 10, 32)         0         \n",
      "_________________________________________________________________\n",
      "flatten_1 (Flatten)          (None, 2560)              0         \n",
      "_________________________________________________________________\n",
      "dense_1 (Dense)              (None, 128)               327808    \n",
      "_________________________________________________________________\n",
      "activation_5 (Activation)    (None, 128)               0         \n",
      "_________________________________________________________________\n",
      "dropout_4 (Dropout)          (None, 128)               0         \n",
      "_________________________________________________________________\n",
      "dense_2 (Dense)              (None, 2)                 258       \n",
      "_________________________________________________________________\n",
      "Output (Activation)          (None, 2)                 0         \n",
      "=================================================================\n",
      "Total params: 356,258\n",
      "Trainable params: 356,194\n",
      "Non-trainable params: 64\n",
      "_________________________________________________________________\n"
     ]
    }
   ],
   "source": [
    "model = audio_model(model_name)\n",
    "\n",
    "model.compile(loss='categorical_crossentropy',\n",
    "              optimizer=Adam(),\n",
    "              metrics=['accuracy'])\n",
    "model.summary()"
   ]
  },
  {
   "cell_type": "markdown",
   "metadata": {},
   "source": [
    "### Fit"
   ]
  },
  {
   "cell_type": "code",
   "execution_count": 9,
   "metadata": {},
   "outputs": [],
   "source": [
    "lr_reducer = ReduceLROnPlateau(factor=0.2,\n",
    "                               cooldown=0,\n",
    "                               patience=2,\n",
    "                               min_lr=0.5e-6)\n",
    "\n",
    "earlystop = EarlyStopping(monitor='val_loss',\n",
    "                          patience=6)"
   ]
  },
  {
   "cell_type": "code",
   "execution_count": 10,
   "metadata": {
    "scrolled": false
   },
   "outputs": [
    {
     "name": "stdout",
     "output_type": "stream",
     "text": [
      "X --> (REAL,FALSE)= [4149 1171]\n",
      "test --> (REAL,FALSE)= [1001  329]\n",
      "Mon Mar  9 00:40:53 UTC 2020\n",
      "Epoch 1/200\n",
      "166/166 [==============================] - 136s 820ms/step - loss: 3.5440 - acc: 0.7801 - val_loss: 3.9908 - val_acc: 0.7523\n",
      "\n",
      "Epoch 00001: val_loss improved from inf to 3.99078, saving model to ../models/DDC_audio_model.panotti.001.h5\n",
      "Epoch 2/200\n",
      "166/166 [==============================] - 133s 804ms/step - loss: 3.5380 - acc: 0.7805 - val_loss: 4.0031 - val_acc: 0.7515\n",
      "\n",
      "Epoch 00002: val_loss did not improve from 3.99078\n",
      "Epoch 3/200\n",
      "166/166 [==============================] - 133s 803ms/step - loss: 3.5501 - acc: 0.7797 - val_loss: 3.9908 - val_acc: 0.7523\n",
      "\n",
      "Epoch 00003: val_loss did not improve from 3.99078\n",
      "Epoch 4/200\n",
      "166/166 [==============================] - 134s 810ms/step - loss: 3.5440 - acc: 0.7801 - val_loss: 3.9909 - val_acc: 0.7523\n",
      "\n",
      "Epoch 00004: val_loss did not improve from 3.99078\n",
      "Epoch 5/200\n",
      "166/166 [==============================] - 133s 798ms/step - loss: 3.5531 - acc: 0.7796 - val_loss: 4.0155 - val_acc: 0.7508\n",
      "\n",
      "Epoch 00005: val_loss did not improve from 3.99078\n",
      "Epoch 6/200\n",
      "166/166 [==============================] - 132s 797ms/step - loss: 3.5471 - acc: 0.7799 - val_loss: 3.9540 - val_acc: 0.7546\n",
      "\n",
      "Epoch 00006: val_loss improved from 3.99078 to 3.95398, saving model to ../models/DDC_audio_model.panotti.006.h5\n",
      "Epoch 7/200\n",
      "166/166 [==============================] - 136s 817ms/step - loss: 3.5440 - acc: 0.7801 - val_loss: 4.0031 - val_acc: 0.7515\n",
      "\n",
      "Epoch 00007: val_loss did not improve from 3.95398\n",
      "Epoch 8/200\n",
      "166/166 [==============================] - 135s 815ms/step - loss: 3.5440 - acc: 0.7801 - val_loss: 3.9662 - val_acc: 0.7538\n",
      "\n",
      "Epoch 00008: val_loss did not improve from 3.95398\n",
      "Epoch 9/200\n",
      "166/166 [==============================] - 136s 822ms/step - loss: 3.5531 - acc: 0.7796 - val_loss: 3.9663 - val_acc: 0.7538\n",
      "\n",
      "Epoch 00009: val_loss did not improve from 3.95398\n",
      "Epoch 10/200\n",
      "166/166 [==============================] - 134s 807ms/step - loss: 3.5501 - acc: 0.7797 - val_loss: 3.9681 - val_acc: 0.7538\n",
      "\n",
      "Epoch 00010: val_loss did not improve from 3.95398\n",
      "Epoch 11/200\n",
      "166/166 [==============================] - 135s 813ms/step - loss: 3.5501 - acc: 0.7797 - val_loss: 4.0153 - val_acc: 0.7508\n",
      "\n",
      "Epoch 00011: val_loss did not improve from 3.95398\n",
      "Epoch 12/200\n",
      "166/166 [==============================] - 133s 799ms/step - loss: 3.5440 - acc: 0.7801 - val_loss: 4.0276 - val_acc: 0.7500\n",
      "\n",
      "Epoch 00012: val_loss did not improve from 3.95398\n"
     ]
    }
   ],
   "source": [
    "from sklearn.model_selection import train_test_split\n",
    "\n",
    "X, test = train_test_split(train, test_size=0.2, shuffle=True)\n",
    "\n",
    "group = np.core.defchararray.rfind(X,'FAKE')==14\n",
    "print('X --> (REAL,FALSE)=',np.bincount(group))\n",
    "group = np.core.defchararray.rfind(test,'FAKE')==14\n",
    "print('test --> (REAL,FALSE)=',np.bincount(group))\n",
    "\n",
    "! date\n",
    "training_generator = SimpleDataFromNpzGenerator(npzfiles=X, dim=dim)\n",
    "validation_generator = SimpleDataFromNpzGenerator(npzfiles=test, dim=dim)\n",
    "\n",
    "checkpoint = ModelCheckpoint(filepath=f'{save_dir}/{name_prefix}.{model_name}.{name_suffix}',\n",
    "                             monitor='val_loss',\n",
    "                             verbose=1,\n",
    "                             save_best_only=True)\n",
    "\n",
    "history = model.fit_generator(generator=training_generator,\n",
    "                              epochs=epochs,\n",
    "                              validation_data=validation_generator,\n",
    "                              callbacks=[checkpoint, lr_reducer, earlystop],\n",
    "                              #use_multiprocessing=True,\n",
    "                              #workers=6,\n",
    "                              max_queue_size=30)"
   ]
  },
  {
   "cell_type": "code",
   "execution_count": 11,
   "metadata": {},
   "outputs": [
    {
     "data": {
      "image/png": "[encoded data removed]",
      "text/plain": [
       "<Figure size 1080x576 with 2 Axes>"
      ]
     },
     "metadata": {
      "needs_background": "light"
     },
     "output_type": "display_data"
    }
   ],
   "source": [
    "f, (ax1, ax2) = plt.subplots(nrows = 1, ncols = 2, figsize=(15, 8))\n",
    "\n",
    "# Plot training & validation accuracy values\n",
    "ax1.plot(history.history['acc'])\n",
    "ax1.plot(history.history['val_acc'])\n",
    "ax1.set_title('Model accuracy')\n",
    "ax1.set(xlabel=\"Epoch\", ylabel=\"Accuracy\")\n",
    "ax1.legend(['Train', 'Test'], loc='lower right')\n",
    "\n",
    "# Plot training & validation loss values\n",
    "ax2.plot(history.history['loss'])\n",
    "ax2.plot(history.history['val_loss'])\n",
    "ax2.set_title('Model loss')\n",
    "ax2.set(xlabel=\"Epoch\", ylabel=\"Loss\")\n",
    "ax2.legend(['Train', 'Test'], loc='upper right')\n",
    "\n",
    "plt.show()"
   ]
  },
  {
   "cell_type": "code",
   "execution_count": null,
   "metadata": {},
   "outputs": [],
   "source": []
  }
 ],
 "metadata": {
  "kernelspec": {
   "display_name": "Python 3",
   "language": "python",
   "name": "python3"
  },
  "language_info": {
   "codemirror_mode": {
    "name": "ipython",
    "version": 3
   },
   "file_extension": ".py",
   "mimetype": "text/x-python",
   "name": "python",
   "nbconvert_exporter": "python",
   "pygments_lexer": "ipython3",
   "version": "3.6.6"
  }
 },
 "nbformat": 4,
 "nbformat_minor": 2
}
